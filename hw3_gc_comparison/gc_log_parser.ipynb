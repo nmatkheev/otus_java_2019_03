{
 "cells": [
  {
   "cell_type": "code",
   "execution_count": 2,
   "metadata": {},
   "outputs": [],
   "source": [
    "import os\n",
    "import pandas as pd"
   ]
  },
  {
   "cell_type": "code",
   "execution_count": 1,
   "metadata": {},
   "outputs": [],
   "source": [
    "log_path = \"/Users/lancer/IdeaProjects/otus_java_2019_10/hw3_gc_comparison/gc_logs\""
   ]
  },
  {
   "cell_type": "code",
   "execution_count": 36,
   "metadata": {},
   "outputs": [],
   "source": [
    "with open(os.path.join(log_path, 'serial.log')) as f:\n",
    "    dat = f.readlines()[4:-2]"
   ]
  },
  {
   "cell_type": "code",
   "execution_count": 47,
   "metadata": {},
   "outputs": [],
   "source": [
    "def get_df(fpath):\n",
    "    with open(fpath) as f:\n",
    "        dat = f.readlines()[4:-2]\n",
    "        \n",
    "    def parser(line):\n",
    "        raw = line.split(',')\n",
    "        gc = raw[0]\n",
    "        reason = raw[1].replace(\"Action: \", \"\")\n",
    "        causetime = raw[2].replace(\"gcCause:\", \"\").replace(\" ms\", \"\").strip().split(\"->\")\n",
    "        cause = causetime[0].strip()\n",
    "        time = int(causetime[1].strip())\n",
    "\n",
    "        return [gc, reason.strip(), cause, time]\n",
    "    dataraw = [parser(i) for i in dat]\n",
    "    return pd.DataFrame.from_records(dataraw, columns=['gc', 'reason', 'cause', 'duration'])"
   ]
  },
  {
   "cell_type": "code",
   "execution_count": 48,
   "metadata": {},
   "outputs": [],
   "source": [
    "serial = get_df(os.path.join(log_path, 'serial.log'))"
   ]
  },
  {
   "cell_type": "code",
   "execution_count": 49,
   "metadata": {},
   "outputs": [],
   "source": [
    "g1 = get_df(os.path.join(log_path, 'G1.log'))"
   ]
  },
  {
   "cell_type": "code",
   "execution_count": 50,
   "metadata": {},
   "outputs": [],
   "source": [
    "parallel = get_df(os.path.join(log_path, 'parallel.log'))"
   ]
  },
  {
   "cell_type": "markdown",
   "metadata": {},
   "source": [
    "\n",
    "\n"
   ]
  },
  {
   "cell_type": "code",
   "execution_count": 64,
   "metadata": {},
   "outputs": [],
   "source": [
    "def get_united_stat(df_list, labels):\n",
    "    number_stat = []\n",
    "    cat_stat = []\n",
    "    for df, label in zip(df_list, labels):\n",
    "        cs = df.describe(include=['O'])\n",
    "        ns = df.describe()\n",
    "        cs.columns = [label+\"_\"+c for c in cs.columns]\n",
    "        ns.columns = [label+\"_\"+c for c in ns.columns]\n",
    "        number_stat.append(ns)\n",
    "        cat_stat.append(cs)\n",
    "    return pd.concat(number_stat, axis=1), pd.concat(cat_stat, axis=1)"
   ]
  },
  {
   "cell_type": "code",
   "execution_count": 65,
   "metadata": {},
   "outputs": [],
   "source": [
    "nsl, csl = get_united_stat([serial, parallel, g1], [\"serial\", \"parallel\", \"g1\"])"
   ]
  },
  {
   "cell_type": "code",
   "execution_count": 69,
   "metadata": {},
   "outputs": [],
   "source": [
    "csl.to_clipboard()"
   ]
  }
 ],
 "metadata": {
  "kernelspec": {
   "display_name": "Python 3",
   "language": "python",
   "name": "python3"
  },
  "language_info": {
   "codemirror_mode": {
    "name": "ipython",
    "version": 3
   },
   "file_extension": ".py",
   "mimetype": "text/x-python",
   "name": "python",
   "nbconvert_exporter": "python",
   "pygments_lexer": "ipython3",
   "version": "3.7.4"
  }
 },
 "nbformat": 4,
 "nbformat_minor": 2
}
